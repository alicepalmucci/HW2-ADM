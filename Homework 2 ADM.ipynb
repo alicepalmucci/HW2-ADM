{
 "cells": [
  {
   "cell_type": "markdown",
   "metadata": {},
   "source": [
    "# Homework 2"
   ]
  },
  {
   "cell_type": "code",
   "execution_count": 29,
   "metadata": {},
   "outputs": [],
   "source": [
    "import pandas as pd\n",
    "import matplotlib.pyplot as plt\n",
    "import datetime\n",
    "from datetime import datetime\n",
    "import numpy as np"
   ]
  },
  {
   "cell_type": "code",
   "execution_count": 30,
   "metadata": {},
   "outputs": [],
   "source": [
    "#fuction that converts unix timestamps into datetime\n",
    "def dateparse(time_in_secs):\n",
    "    return pd.to_datetime(time_in_secs, unit='s')"
   ]
  },
  {
   "cell_type": "code",
   "execution_count": 9,
   "metadata": {},
   "outputs": [
    {
     "data": {
      "text/html": [
       "<div>\n",
       "<style scoped>\n",
       "    .dataframe tbody tr th:only-of-type {\n",
       "        vertical-align: middle;\n",
       "    }\n",
       "\n",
       "    .dataframe tbody tr th {\n",
       "        vertical-align: top;\n",
       "    }\n",
       "\n",
       "    .dataframe thead th {\n",
       "        text-align: right;\n",
       "    }\n",
       "</style>\n",
       "<table border=\"1\" class=\"dataframe\">\n",
       "  <thead>\n",
       "    <tr style=\"text-align: right;\">\n",
       "      <th></th>\n",
       "      <th>Unnamed: 0</th>\n",
       "      <th>app_id</th>\n",
       "      <th>app_name</th>\n",
       "      <th>review_id</th>\n",
       "      <th>language</th>\n",
       "      <th>review</th>\n",
       "      <th>timestamp_created</th>\n",
       "      <th>timestamp_updated</th>\n",
       "      <th>recommended</th>\n",
       "      <th>votes_helpful</th>\n",
       "      <th>...</th>\n",
       "      <th>steam_purchase</th>\n",
       "      <th>received_for_free</th>\n",
       "      <th>written_during_early_access</th>\n",
       "      <th>author.steamid</th>\n",
       "      <th>author.num_games_owned</th>\n",
       "      <th>author.num_reviews</th>\n",
       "      <th>author.playtime_forever</th>\n",
       "      <th>author.playtime_last_two_weeks</th>\n",
       "      <th>author.playtime_at_review</th>\n",
       "      <th>author.last_played</th>\n",
       "    </tr>\n",
       "  </thead>\n",
       "  <tbody>\n",
       "    <tr>\n",
       "      <th>0</th>\n",
       "      <td>0</td>\n",
       "      <td>292030</td>\n",
       "      <td>The Witcher 3: Wild Hunt</td>\n",
       "      <td>85185598</td>\n",
       "      <td>schinese</td>\n",
       "      <td>不玩此生遗憾，RPG游戏里的天花板，太吸引人了</td>\n",
       "      <td>2021-01-23 06:00:29</td>\n",
       "      <td>2021-01-23 06:00:29</td>\n",
       "      <td>True</td>\n",
       "      <td>0</td>\n",
       "      <td>...</td>\n",
       "      <td>True</td>\n",
       "      <td>False</td>\n",
       "      <td>False</td>\n",
       "      <td>76561199095369542</td>\n",
       "      <td>6</td>\n",
       "      <td>2</td>\n",
       "      <td>1909.0</td>\n",
       "      <td>1448.0</td>\n",
       "      <td>1909.0</td>\n",
       "      <td>2021-01-22 19:23:03</td>\n",
       "    </tr>\n",
       "    <tr>\n",
       "      <th>1</th>\n",
       "      <td>1</td>\n",
       "      <td>292030</td>\n",
       "      <td>The Witcher 3: Wild Hunt</td>\n",
       "      <td>85185250</td>\n",
       "      <td>schinese</td>\n",
       "      <td>拔DIAO无情打桩机--杰洛特!!!</td>\n",
       "      <td>2021-01-23 05:50:30</td>\n",
       "      <td>2021-01-23 05:50:30</td>\n",
       "      <td>True</td>\n",
       "      <td>0</td>\n",
       "      <td>...</td>\n",
       "      <td>True</td>\n",
       "      <td>False</td>\n",
       "      <td>False</td>\n",
       "      <td>76561198949504115</td>\n",
       "      <td>30</td>\n",
       "      <td>10</td>\n",
       "      <td>2764.0</td>\n",
       "      <td>2743.0</td>\n",
       "      <td>2674.0</td>\n",
       "      <td>2021-01-23 07:18:27</td>\n",
       "    </tr>\n",
       "    <tr>\n",
       "      <th>2</th>\n",
       "      <td>2</td>\n",
       "      <td>292030</td>\n",
       "      <td>The Witcher 3: Wild Hunt</td>\n",
       "      <td>85185111</td>\n",
       "      <td>schinese</td>\n",
       "      <td>巫师3NB</td>\n",
       "      <td>2021-01-23 05:46:40</td>\n",
       "      <td>2021-01-23 05:46:40</td>\n",
       "      <td>True</td>\n",
       "      <td>0</td>\n",
       "      <td>...</td>\n",
       "      <td>True</td>\n",
       "      <td>False</td>\n",
       "      <td>False</td>\n",
       "      <td>76561199090098988</td>\n",
       "      <td>5</td>\n",
       "      <td>1</td>\n",
       "      <td>1061.0</td>\n",
       "      <td>1061.0</td>\n",
       "      <td>1060.0</td>\n",
       "      <td>2021-01-23 06:36:17</td>\n",
       "    </tr>\n",
       "    <tr>\n",
       "      <th>3</th>\n",
       "      <td>3</td>\n",
       "      <td>292030</td>\n",
       "      <td>The Witcher 3: Wild Hunt</td>\n",
       "      <td>85184605</td>\n",
       "      <td>english</td>\n",
       "      <td>One of the best RPG's of all time, worthy of a...</td>\n",
       "      <td>2021-01-23 05:32:50</td>\n",
       "      <td>2021-01-23 05:32:50</td>\n",
       "      <td>True</td>\n",
       "      <td>0</td>\n",
       "      <td>...</td>\n",
       "      <td>True</td>\n",
       "      <td>False</td>\n",
       "      <td>False</td>\n",
       "      <td>76561199054755373</td>\n",
       "      <td>5</td>\n",
       "      <td>3</td>\n",
       "      <td>5587.0</td>\n",
       "      <td>3200.0</td>\n",
       "      <td>5524.0</td>\n",
       "      <td>2021-01-23 06:35:44</td>\n",
       "    </tr>\n",
       "    <tr>\n",
       "      <th>4</th>\n",
       "      <td>4</td>\n",
       "      <td>292030</td>\n",
       "      <td>The Witcher 3: Wild Hunt</td>\n",
       "      <td>85184287</td>\n",
       "      <td>schinese</td>\n",
       "      <td>大作</td>\n",
       "      <td>2021-01-23 05:23:47</td>\n",
       "      <td>2021-01-23 05:23:47</td>\n",
       "      <td>True</td>\n",
       "      <td>0</td>\n",
       "      <td>...</td>\n",
       "      <td>True</td>\n",
       "      <td>False</td>\n",
       "      <td>False</td>\n",
       "      <td>76561199028326951</td>\n",
       "      <td>7</td>\n",
       "      <td>4</td>\n",
       "      <td>217.0</td>\n",
       "      <td>42.0</td>\n",
       "      <td>217.0</td>\n",
       "      <td>2021-01-16 09:10:49</td>\n",
       "    </tr>\n",
       "    <tr>\n",
       "      <th>...</th>\n",
       "      <td>...</td>\n",
       "      <td>...</td>\n",
       "      <td>...</td>\n",
       "      <td>...</td>\n",
       "      <td>...</td>\n",
       "      <td>...</td>\n",
       "      <td>...</td>\n",
       "      <td>...</td>\n",
       "      <td>...</td>\n",
       "      <td>...</td>\n",
       "      <td>...</td>\n",
       "      <td>...</td>\n",
       "      <td>...</td>\n",
       "      <td>...</td>\n",
       "      <td>...</td>\n",
       "      <td>...</td>\n",
       "      <td>...</td>\n",
       "      <td>...</td>\n",
       "      <td>...</td>\n",
       "      <td>...</td>\n",
       "      <td>...</td>\n",
       "    </tr>\n",
       "    <tr>\n",
       "      <th>99995</th>\n",
       "      <td>99995</td>\n",
       "      <td>292030</td>\n",
       "      <td>The Witcher 3: Wild Hunt</td>\n",
       "      <td>69870073</td>\n",
       "      <td>english</td>\n",
       "      <td>\"Witchers were made to kill monsters. It doesn...</td>\n",
       "      <td>2020-05-27 03:15:22</td>\n",
       "      <td>2020-08-05 06:20:39</td>\n",
       "      <td>True</td>\n",
       "      <td>0</td>\n",
       "      <td>...</td>\n",
       "      <td>True</td>\n",
       "      <td>False</td>\n",
       "      <td>False</td>\n",
       "      <td>76561198157432426</td>\n",
       "      <td>58</td>\n",
       "      <td>3</td>\n",
       "      <td>7685.0</td>\n",
       "      <td>0.0</td>\n",
       "      <td>5827.0</td>\n",
       "      <td>2020-09-28 17:18:08</td>\n",
       "    </tr>\n",
       "    <tr>\n",
       "      <th>99996</th>\n",
       "      <td>99996</td>\n",
       "      <td>292030</td>\n",
       "      <td>The Witcher 3: Wild Hunt</td>\n",
       "      <td>69869984</td>\n",
       "      <td>english</td>\n",
       "      <td>Awesome game 100%</td>\n",
       "      <td>2020-05-27 03:12:22</td>\n",
       "      <td>2020-05-27 03:12:22</td>\n",
       "      <td>True</td>\n",
       "      <td>0</td>\n",
       "      <td>...</td>\n",
       "      <td>True</td>\n",
       "      <td>False</td>\n",
       "      <td>False</td>\n",
       "      <td>76561198316783809</td>\n",
       "      <td>28</td>\n",
       "      <td>4</td>\n",
       "      <td>6743.0</td>\n",
       "      <td>0.0</td>\n",
       "      <td>4572.0</td>\n",
       "      <td>2020-10-27 01:12:58</td>\n",
       "    </tr>\n",
       "    <tr>\n",
       "      <th>99997</th>\n",
       "      <td>99997</td>\n",
       "      <td>292030</td>\n",
       "      <td>The Witcher 3: Wild Hunt</td>\n",
       "      <td>69869740</td>\n",
       "      <td>schinese</td>\n",
       "      <td>优秀</td>\n",
       "      <td>2020-05-27 03:04:56</td>\n",
       "      <td>2020-05-27 03:04:56</td>\n",
       "      <td>True</td>\n",
       "      <td>0</td>\n",
       "      <td>...</td>\n",
       "      <td>True</td>\n",
       "      <td>False</td>\n",
       "      <td>False</td>\n",
       "      <td>76561199053134442</td>\n",
       "      <td>5</td>\n",
       "      <td>2</td>\n",
       "      <td>407.0</td>\n",
       "      <td>0.0</td>\n",
       "      <td>191.0</td>\n",
       "      <td>2020-06-10 12:42:29</td>\n",
       "    </tr>\n",
       "    <tr>\n",
       "      <th>99998</th>\n",
       "      <td>99998</td>\n",
       "      <td>292030</td>\n",
       "      <td>The Witcher 3: Wild Hunt</td>\n",
       "      <td>69869693</td>\n",
       "      <td>english</td>\n",
       "      <td>Best game ever made.</td>\n",
       "      <td>2020-05-27 03:03:39</td>\n",
       "      <td>2020-05-27 03:03:39</td>\n",
       "      <td>True</td>\n",
       "      <td>0</td>\n",
       "      <td>...</td>\n",
       "      <td>True</td>\n",
       "      <td>False</td>\n",
       "      <td>False</td>\n",
       "      <td>76561197960918235</td>\n",
       "      <td>45</td>\n",
       "      <td>2</td>\n",
       "      <td>8162.0</td>\n",
       "      <td>14.0</td>\n",
       "      <td>7332.0</td>\n",
       "      <td>2021-01-19 20:43:35</td>\n",
       "    </tr>\n",
       "    <tr>\n",
       "      <th>99999</th>\n",
       "      <td>99999</td>\n",
       "      <td>292030</td>\n",
       "      <td>The Witcher 3: Wild Hunt</td>\n",
       "      <td>69869583</td>\n",
       "      <td>brazilian</td>\n",
       "      <td>Uma obra prima dos jogos.</td>\n",
       "      <td>2020-05-27 02:59:50</td>\n",
       "      <td>2020-05-27 02:59:50</td>\n",
       "      <td>True</td>\n",
       "      <td>0</td>\n",
       "      <td>...</td>\n",
       "      <td>True</td>\n",
       "      <td>False</td>\n",
       "      <td>False</td>\n",
       "      <td>76561198351865826</td>\n",
       "      <td>10</td>\n",
       "      <td>1</td>\n",
       "      <td>4541.0</td>\n",
       "      <td>0.0</td>\n",
       "      <td>4541.0</td>\n",
       "      <td>2020-05-27 02:48:21</td>\n",
       "    </tr>\n",
       "  </tbody>\n",
       "</table>\n",
       "<p>100000 rows × 23 columns</p>\n",
       "</div>"
      ],
      "text/plain": [
       "       Unnamed: 0  app_id                  app_name  review_id   language  \\\n",
       "0               0  292030  The Witcher 3: Wild Hunt   85185598   schinese   \n",
       "1               1  292030  The Witcher 3: Wild Hunt   85185250   schinese   \n",
       "2               2  292030  The Witcher 3: Wild Hunt   85185111   schinese   \n",
       "3               3  292030  The Witcher 3: Wild Hunt   85184605    english   \n",
       "4               4  292030  The Witcher 3: Wild Hunt   85184287   schinese   \n",
       "...           ...     ...                       ...        ...        ...   \n",
       "99995       99995  292030  The Witcher 3: Wild Hunt   69870073    english   \n",
       "99996       99996  292030  The Witcher 3: Wild Hunt   69869984    english   \n",
       "99997       99997  292030  The Witcher 3: Wild Hunt   69869740   schinese   \n",
       "99998       99998  292030  The Witcher 3: Wild Hunt   69869693    english   \n",
       "99999       99999  292030  The Witcher 3: Wild Hunt   69869583  brazilian   \n",
       "\n",
       "                                                  review   timestamp_created  \\\n",
       "0                                不玩此生遗憾，RPG游戏里的天花板，太吸引人了 2021-01-23 06:00:29   \n",
       "1                                     拔DIAO无情打桩机--杰洛特!!! 2021-01-23 05:50:30   \n",
       "2                                                  巫师3NB 2021-01-23 05:46:40   \n",
       "3      One of the best RPG's of all time, worthy of a... 2021-01-23 05:32:50   \n",
       "4                                                     大作 2021-01-23 05:23:47   \n",
       "...                                                  ...                 ...   \n",
       "99995  \"Witchers were made to kill monsters. It doesn... 2020-05-27 03:15:22   \n",
       "99996                                  Awesome game 100% 2020-05-27 03:12:22   \n",
       "99997                                                 优秀 2020-05-27 03:04:56   \n",
       "99998                               Best game ever made. 2020-05-27 03:03:39   \n",
       "99999                          Uma obra prima dos jogos. 2020-05-27 02:59:50   \n",
       "\n",
       "        timestamp_updated  recommended  votes_helpful  ...  steam_purchase  \\\n",
       "0     2021-01-23 06:00:29         True              0  ...            True   \n",
       "1     2021-01-23 05:50:30         True              0  ...            True   \n",
       "2     2021-01-23 05:46:40         True              0  ...            True   \n",
       "3     2021-01-23 05:32:50         True              0  ...            True   \n",
       "4     2021-01-23 05:23:47         True              0  ...            True   \n",
       "...                   ...          ...            ...  ...             ...   \n",
       "99995 2020-08-05 06:20:39         True              0  ...            True   \n",
       "99996 2020-05-27 03:12:22         True              0  ...            True   \n",
       "99997 2020-05-27 03:04:56         True              0  ...            True   \n",
       "99998 2020-05-27 03:03:39         True              0  ...            True   \n",
       "99999 2020-05-27 02:59:50         True              0  ...            True   \n",
       "\n",
       "       received_for_free  written_during_early_access     author.steamid  \\\n",
       "0                  False                        False  76561199095369542   \n",
       "1                  False                        False  76561198949504115   \n",
       "2                  False                        False  76561199090098988   \n",
       "3                  False                        False  76561199054755373   \n",
       "4                  False                        False  76561199028326951   \n",
       "...                  ...                          ...                ...   \n",
       "99995              False                        False  76561198157432426   \n",
       "99996              False                        False  76561198316783809   \n",
       "99997              False                        False  76561199053134442   \n",
       "99998              False                        False  76561197960918235   \n",
       "99999              False                        False  76561198351865826   \n",
       "\n",
       "       author.num_games_owned  author.num_reviews  author.playtime_forever  \\\n",
       "0                           6                   2                   1909.0   \n",
       "1                          30                  10                   2764.0   \n",
       "2                           5                   1                   1061.0   \n",
       "3                           5                   3                   5587.0   \n",
       "4                           7                   4                    217.0   \n",
       "...                       ...                 ...                      ...   \n",
       "99995                      58                   3                   7685.0   \n",
       "99996                      28                   4                   6743.0   \n",
       "99997                       5                   2                    407.0   \n",
       "99998                      45                   2                   8162.0   \n",
       "99999                      10                   1                   4541.0   \n",
       "\n",
       "       author.playtime_last_two_weeks  author.playtime_at_review  \\\n",
       "0                              1448.0                     1909.0   \n",
       "1                              2743.0                     2674.0   \n",
       "2                              1061.0                     1060.0   \n",
       "3                              3200.0                     5524.0   \n",
       "4                                42.0                      217.0   \n",
       "...                               ...                        ...   \n",
       "99995                             0.0                     5827.0   \n",
       "99996                             0.0                     4572.0   \n",
       "99997                             0.0                      191.0   \n",
       "99998                            14.0                     7332.0   \n",
       "99999                             0.0                     4541.0   \n",
       "\n",
       "       author.last_played  \n",
       "0     2021-01-22 19:23:03  \n",
       "1     2021-01-23 07:18:27  \n",
       "2     2021-01-23 06:36:17  \n",
       "3     2021-01-23 06:35:44  \n",
       "4     2021-01-16 09:10:49  \n",
       "...                   ...  \n",
       "99995 2020-09-28 17:18:08  \n",
       "99996 2020-10-27 01:12:58  \n",
       "99997 2020-06-10 12:42:29  \n",
       "99998 2021-01-19 20:43:35  \n",
       "99999 2020-05-27 02:48:21  \n",
       "\n",
       "[100000 rows x 23 columns]"
      ]
     },
     "execution_count": 9,
     "metadata": {},
     "output_type": "execute_result"
    }
   ],
   "source": [
    "df = pd.read_csv('steam_reviews.csv', header = 'infer', nrows = 100000, parse_dates=['timestamp_created','timestamp_updated','author.last_played'], date_parser = dateparse)\n",
    "df"
   ]
  },
  {
   "cell_type": "markdown",
   "metadata": {},
   "source": [
    "### [RQ1] After collecting information, the Data Scientists have to know what dataset they are dealing with, so let's start with an Exploratory Data Analysis (EDA). What can you say about our dataset? Please summarize its main characteristics with visual and tabular methods.\n",
    "\n"
   ]
  },
  {
   "cell_type": "markdown",
   "metadata": {},
   "source": [
    "1. Starting with a dimension reduction of the original dataset, we consider 100000 rows (out of 21 million), to do some basic statistics and understand the data we are dealing with. "
   ]
  },
  {
   "cell_type": "code",
   "execution_count": 10,
   "metadata": {
    "scrolled": true
   },
   "outputs": [
    {
     "data": {
      "text/plain": [
       "Index(['Unnamed: 0', 'app_id', 'app_name', 'review_id', 'language', 'review',\n",
       "       'timestamp_created', 'timestamp_updated', 'recommended',\n",
       "       'votes_helpful', 'votes_funny', 'weighted_vote_score', 'comment_count',\n",
       "       'steam_purchase', 'received_for_free', 'written_during_early_access',\n",
       "       'author.steamid', 'author.num_games_owned', 'author.num_reviews',\n",
       "       'author.playtime_forever', 'author.playtime_last_two_weeks',\n",
       "       'author.playtime_at_review', 'author.last_played'],\n",
       "      dtype='object')"
      ]
     },
     "execution_count": 10,
     "metadata": {},
     "output_type": "execute_result"
    }
   ],
   "source": [
    "df.columns"
   ]
  },
  {
   "cell_type": "code",
   "execution_count": 11,
   "metadata": {
    "scrolled": false
   },
   "outputs": [
    {
     "data": {
      "text/plain": [
       "23"
      ]
     },
     "execution_count": 11,
     "metadata": {},
     "output_type": "execute_result"
    }
   ],
   "source": [
    "len(df.columns)"
   ]
  },
  {
   "cell_type": "markdown",
   "metadata": {},
   "source": [
    "### Dataset consist of 23 columns:\n",
    "1. app_id – the application unique identification number\n",
    "2. app_name – the name of the game\n",
    "3. review_id – unique identity of review\n",
    "4. language – language used in review\n",
    "5. review – the actual review\n",
    "6. timestamp_created – date the review was created (unixtimestamp)\n",
    "7. timestamp_updated – date the review was last updated (unix timestamp)\n",
    "8. recommended – true means it was a positive recommendation\n",
    "9. votes_helpful – the number of users that found this review helpful\n",
    "10. votes_funny – the number of users that found this review funny\n",
    "11. weighted_vote_score – helpfulness score\n",
    "12. comment_count – number of comments posted on this review\n",
    "13. steam_purchase – true if the user purchased the game on Steam\n",
    "14. received_for_free – true if the user checked a box saying they got the app for free\n",
    "15. written_during_early_access – true if the user posted this review while the game was in Early Access\n",
    "16. Author fields:\n",
    "17. steamid – the user’s SteamID\n",
    "18. num_games_owned – number of games owned by the user\n",
    "19. num_reviews – number of reviews written by the user\n",
    "20. playtime_forever – lifetime playtime tracked in this app\n",
    "21. playtime_last_two_weeks – playtime tracked in the past two weeks for this app\n",
    "22. playtime_at_review – playtime when the review was written\n",
    "23. last_played – time for when the user last played"
   ]
  },
  {
   "cell_type": "markdown",
   "metadata": {},
   "source": [
    "### [RQ2] Let's explore the dataset by finding simple insights into the reviews. \n",
    "Plot the number of reviews for each application in descending order. \n",
    "What applications have the best Weighted Vote Score? \n",
    "Which applications have the most and the least recommendations? \n",
    "How many of these applications were purchased, and how many were given for free?"
   ]
  },
  {
   "cell_type": "code",
   "execution_count": 12,
   "metadata": {},
   "outputs": [
    {
     "data": {
      "text/plain": [
       "The Witcher 3: Wild Hunt    100000\n",
       "Name: app_name, dtype: int64"
      ]
     },
     "execution_count": 12,
     "metadata": {},
     "output_type": "execute_result"
    }
   ],
   "source": [
    "df_app = df.groupby('app_id')\n",
    "df['app_name'].value_counts()"
   ]
  },
  {
   "cell_type": "code",
   "execution_count": 13,
   "metadata": {},
   "outputs": [
    {
     "name": "stdout",
     "output_type": "stream",
     "text": [
      "For 292030 we have 100000 reviews\n"
     ]
    },
    {
     "data": {
      "text/plain": [
       "<matplotlib.axes._subplots.AxesSubplot at 0x7fe21beee5e0>"
      ]
     },
     "execution_count": 13,
     "metadata": {},
     "output_type": "execute_result"
    },
    {
     "data": {
      "image/png": "[encoded data removed]",
      "text/plain": [
       "<Figure size 432x288 with 1 Axes>"
      ]
     },
     "metadata": {
      "needs_background": "light"
     },
     "output_type": "display_data"
    }
   ],
   "source": [
    "#2.1\n",
    "for app_id, frame in df.groupby('app_id'):\n",
    "    print(f'For {app_id} we have {len(frame)} reviews')\n",
    "    \n",
    "df['app_name'].value_counts().plot.bar()"
   ]
  },
  {
   "cell_type": "code",
   "execution_count": 14,
   "metadata": {},
   "outputs": [],
   "source": [
    "#2.2\n",
    "#app_wvs = df['app_id','weighted_vote_score']\n",
    "#for app_id, wvs in app_wvs:\n",
    "    #if wvs == max(df['weighted_vote_score']):\n",
    "       # print(app_id)\n",
    "    "
   ]
  },
  {
   "cell_type": "code",
   "execution_count": 15,
   "metadata": {},
   "outputs": [
    {
     "data": {
      "text/plain": [
       "0.98616224527359"
      ]
     },
     "execution_count": 15,
     "metadata": {},
     "output_type": "execute_result"
    }
   ],
   "source": [
    "max(df['weighted_vote_score'])"
   ]
  },
  {
   "cell_type": "markdown",
   "metadata": {},
   "source": [
    "### [RQ3] Now it's important to understand the preferred time to do reviews.\n",
    "\n",
    "What is the most common time that authors review an application? For example, authors usually write a review at 17:44.\n",
    "Create a function that receives as a parameter a list of time intervals and returns the plot the number of reviews for each of the intervals.\n",
    "Use the function that you created in the previous literal to plot the number of reviews between the following time intervals:"
   ]
  },
  {
   "cell_type": "code",
   "execution_count": 16,
   "metadata": {},
   "outputs": [
    {
     "data": {
      "text/html": [
       "<div>\n",
       "<style scoped>\n",
       "    .dataframe tbody tr th:only-of-type {\n",
       "        vertical-align: middle;\n",
       "    }\n",
       "\n",
       "    .dataframe tbody tr th {\n",
       "        vertical-align: top;\n",
       "    }\n",
       "\n",
       "    .dataframe thead th {\n",
       "        text-align: right;\n",
       "    }\n",
       "</style>\n",
       "<table border=\"1\" class=\"dataframe\">\n",
       "  <thead>\n",
       "    <tr style=\"text-align: right;\">\n",
       "      <th></th>\n",
       "      <th>Initial time</th>\n",
       "      <th>Final time</th>\n",
       "    </tr>\n",
       "  </thead>\n",
       "  <tbody>\n",
       "    <tr>\n",
       "      <th>0</th>\n",
       "      <td>06:00:00</td>\n",
       "      <td>10:59:59</td>\n",
       "    </tr>\n",
       "    <tr>\n",
       "      <th>1</th>\n",
       "      <td>11:00:00</td>\n",
       "      <td>13:59:59</td>\n",
       "    </tr>\n",
       "    <tr>\n",
       "      <th>2</th>\n",
       "      <td>14:00:00</td>\n",
       "      <td>16:59:59</td>\n",
       "    </tr>\n",
       "    <tr>\n",
       "      <th>3</th>\n",
       "      <td>17:00:00</td>\n",
       "      <td>19:59:59</td>\n",
       "    </tr>\n",
       "    <tr>\n",
       "      <th>4</th>\n",
       "      <td>20:00:00</td>\n",
       "      <td>23:59:59</td>\n",
       "    </tr>\n",
       "    <tr>\n",
       "      <th>5</th>\n",
       "      <td>00:00:00</td>\n",
       "      <td>02:59:59</td>\n",
       "    </tr>\n",
       "    <tr>\n",
       "      <th>6</th>\n",
       "      <td>03:00:00</td>\n",
       "      <td>05:59:59</td>\n",
       "    </tr>\n",
       "  </tbody>\n",
       "</table>\n",
       "</div>"
      ],
      "text/plain": [
       "  Initial time Final time\n",
       "0     06:00:00   10:59:59\n",
       "1     11:00:00   13:59:59\n",
       "2     14:00:00   16:59:59\n",
       "3     17:00:00   19:59:59\n",
       "4     20:00:00   23:59:59\n",
       "5     00:00:00   02:59:59\n",
       "6     03:00:00   05:59:59"
      ]
     },
     "execution_count": 16,
     "metadata": {},
     "output_type": "execute_result"
    }
   ],
   "source": [
    "time_intervals = pd.read_excel('time_interval.xlsx')\n",
    "time_intervals"
   ]
  },
  {
   "cell_type": "code",
   "execution_count": 17,
   "metadata": {
    "scrolled": true
   },
   "outputs": [
    {
     "data": {
      "text/plain": [
       "0        06:00:29\n",
       "1        05:50:30\n",
       "2        05:46:40\n",
       "3        05:32:50\n",
       "4        05:23:47\n",
       "           ...   \n",
       "99995    03:15:22\n",
       "99996    03:12:22\n",
       "99997    03:04:56\n",
       "99998    03:03:39\n",
       "99999    02:59:50\n",
       "Name: new_time, Length: 100000, dtype: object"
      ]
     },
     "execution_count": 17,
     "metadata": {},
     "output_type": "execute_result"
    }
   ],
   "source": [
    "# creo un dataframe con il tempo in datetime e la review id\n",
    "c = pd.DataFrame(df['timestamp_created'])\n",
    "c['new_date'] = [d.date() for d in df['timestamp_created']]\n",
    "c['new_time'] = [d.time() for d in df['timestamp_created']]\n",
    "c['new_time']"
   ]
  },
  {
   "cell_type": "markdown",
   "metadata": {},
   "source": [
    "remember than a record corresponds to a review"
   ]
  },
  {
   "cell_type": "code",
   "execution_count": 18,
   "metadata": {
    "scrolled": true
   },
   "outputs": [
    {
     "data": {
      "text/plain": [
       "[[datetime.time(6, 0), datetime.time(10, 59, 59)],\n",
       " [datetime.time(11, 0), datetime.time(13, 59, 59)],\n",
       " [datetime.time(14, 0), datetime.time(16, 59, 59)],\n",
       " [datetime.time(17, 0), datetime.time(19, 59, 59)],\n",
       " [datetime.time(20, 0), datetime.time(23, 59, 59)],\n",
       " [datetime.time(0, 0), datetime.time(2, 59, 59)],\n",
       " [datetime.time(3, 0), datetime.time(5, 59, 59)]]"
      ]
     },
     "execution_count": 18,
     "metadata": {},
     "output_type": "execute_result"
    }
   ],
   "source": [
    "init = list(time_intervals['Initial time'])\n",
    "final = list(time_intervals['Final time'])\n",
    "list_time_intervals = []\n",
    "for i in range(len(init)):\n",
    "    for j in range(len(final)):\n",
    "        if i == j:\n",
    "            list_time_intervals.append([init[i],final[j]])\n",
    "list_time_intervals"
   ]
  },
  {
   "cell_type": "code",
   "execution_count": 25,
   "metadata": {},
   "outputs": [],
   "source": [
    "def num_reviews_per_time(t_intervals):\n",
    "    rev_count = {}\n",
    "    for time_rev in c['new_time']:\n",
    "        for i in range(len(t_intervals)):\n",
    "            j = 0\n",
    "            if t_intervals[i][0] <= time_rev <= t_intervals[i][1]:\n",
    "                j+=1 \n",
    "                rev_count[t_intervals[i][0],t_intervals[i][1]]=j\n",
    "    return rev_count  "
   ]
  },
  {
   "cell_type": "code",
   "execution_count": 26,
   "metadata": {},
   "outputs": [
    {
     "data": {
      "text/plain": [
       "{(datetime.time(6, 0), datetime.time(10, 59, 59)): 1,\n",
       " (datetime.time(3, 0), datetime.time(5, 59, 59)): 1,\n",
       " (datetime.time(0, 0), datetime.time(2, 59, 59)): 1,\n",
       " (datetime.time(20, 0), datetime.time(23, 59, 59)): 1,\n",
       " (datetime.time(17, 0), datetime.time(19, 59, 59)): 1,\n",
       " (datetime.time(14, 0), datetime.time(16, 59, 59)): 1,\n",
       " (datetime.time(11, 0), datetime.time(13, 59, 59)): 1}"
      ]
     },
     "execution_count": 26,
     "metadata": {},
     "output_type": "execute_result"
    }
   ],
   "source": [
    "k = num_reviews_per_time(list_time_intervals)\n",
    "k"
   ]
  },
  {
   "cell_type": "code",
   "execution_count": 27,
   "metadata": {},
   "outputs": [
    {
     "data": {
      "text/plain": [
       "[1, 1, 1, 1, 1, 1, 1]"
      ]
     },
     "execution_count": 27,
     "metadata": {},
     "output_type": "execute_result"
    }
   ],
   "source": [
    "review_time = list(num_reviews_per_time(list_time_intervals).values())\n",
    "lb = [list_time_intervals[i][0] for i in range(len(list_time_intervals))]\n",
    "ub = [list_time_intervals[i][1] for i in range(len(list_time_intervals))]\n",
    "review_time"
   ]
  },
  {
   "cell_type": "code",
   "execution_count": 28,
   "metadata": {},
   "outputs": [
    {
     "data": {
      "text/html": [
       "<div>\n",
       "<style scoped>\n",
       "    .dataframe tbody tr th:only-of-type {\n",
       "        vertical-align: middle;\n",
       "    }\n",
       "\n",
       "    .dataframe tbody tr th {\n",
       "        vertical-align: top;\n",
       "    }\n",
       "\n",
       "    .dataframe thead th {\n",
       "        text-align: right;\n",
       "    }\n",
       "</style>\n",
       "<table border=\"1\" class=\"dataframe\">\n",
       "  <thead>\n",
       "    <tr style=\"text-align: right;\">\n",
       "      <th></th>\n",
       "      <th></th>\n",
       "      <th>count</th>\n",
       "    </tr>\n",
       "  </thead>\n",
       "  <tbody>\n",
       "    <tr>\n",
       "      <th>06:00:00</th>\n",
       "      <th>10:59:59</th>\n",
       "      <td>1</td>\n",
       "    </tr>\n",
       "    <tr>\n",
       "      <th>11:00:00</th>\n",
       "      <th>13:59:59</th>\n",
       "      <td>1</td>\n",
       "    </tr>\n",
       "    <tr>\n",
       "      <th>14:00:00</th>\n",
       "      <th>16:59:59</th>\n",
       "      <td>1</td>\n",
       "    </tr>\n",
       "    <tr>\n",
       "      <th>17:00:00</th>\n",
       "      <th>19:59:59</th>\n",
       "      <td>1</td>\n",
       "    </tr>\n",
       "    <tr>\n",
       "      <th>20:00:00</th>\n",
       "      <th>23:59:59</th>\n",
       "      <td>1</td>\n",
       "    </tr>\n",
       "    <tr>\n",
       "      <th>00:00:00</th>\n",
       "      <th>02:59:59</th>\n",
       "      <td>1</td>\n",
       "    </tr>\n",
       "    <tr>\n",
       "      <th>03:00:00</th>\n",
       "      <th>05:59:59</th>\n",
       "      <td>1</td>\n",
       "    </tr>\n",
       "  </tbody>\n",
       "</table>\n",
       "</div>"
      ],
      "text/plain": [
       "                   count\n",
       "06:00:00 10:59:59      1\n",
       "11:00:00 13:59:59      1\n",
       "14:00:00 16:59:59      1\n",
       "17:00:00 19:59:59      1\n",
       "20:00:00 23:59:59      1\n",
       "00:00:00 02:59:59      1\n",
       "03:00:00 05:59:59      1"
      ]
     },
     "execution_count": 28,
     "metadata": {},
     "output_type": "execute_result"
    }
   ],
   "source": [
    "rev_int = pd.DataFrame(index = [lb,ub], columns = ['count'])\n",
    "j = list(k.values())\n",
    "rev_int['count'] = j\n",
    "rev_int"
   ]
  },
  {
   "cell_type": "code",
   "execution_count": 49,
   "metadata": {},
   "outputs": [
    {
     "data": {
      "text/plain": [
       "Text(0, 0.5, 'reviews per interval')"
      ]
     },
     "execution_count": 49,
     "metadata": {},
     "output_type": "execute_result"
    },
    {
     "data": {
      "image/png": "[encoded data removed]",
      "text/plain": [
       "<Figure size 432x288 with 1 Axes>"
      ]
     },
     "metadata": {
      "needs_background": "light"
     },
     "output_type": "display_data"
    }
   ],
   "source": [
    "rev_int['count'].value_counts().plot.bar()\n",
    "plt.xlabel(\"time intervals\")\n",
    "plt.ylabel('reviews per interval')"
   ]
  },
  {
   "cell_type": "markdown",
   "metadata": {},
   "source": [
    "### [RQ4] As Steam is a worldwide platform, the reviews can be done in many languages. Let's extract some information about it.\n",
    "\n",
    "What are the top 3 languages used to review applications?\n",
    "Create a function that receives as parameters both the name of a data set and a list of languages’ names and returns a data frame filtered only with the reviews written in the provided languages.\n",
    "Use the function created in the previous literal to find what percentage of these reviews (associated with the top 3 languages) were voted as funny?\n",
    "Use the function created in the literal “a” to find what percentage of these reviews (associated with the top 3 languages) were voted as helpful?"
   ]
  },
  {
   "cell_type": "code",
   "execution_count": null,
   "metadata": {},
   "outputs": [],
   "source": []
  },
  {
   "cell_type": "code",
   "execution_count": null,
   "metadata": {},
   "outputs": [],
   "source": []
  },
  {
   "cell_type": "code",
   "execution_count": null,
   "metadata": {},
   "outputs": [],
   "source": []
  },
  {
   "cell_type": "code",
   "execution_count": null,
   "metadata": {},
   "outputs": [],
   "source": []
  }
 ],
 "metadata": {
  "kernelspec": {
   "display_name": "Python 3",
   "language": "python",
   "name": "python3"
  },
  "language_info": {
   "codemirror_mode": {
    "name": "ipython",
    "version": 3
   },
   "file_extension": ".py",
   "mimetype": "text/x-python",
   "name": "python",
   "nbconvert_exporter": "python",
   "pygments_lexer": "ipython3",
   "version": "3.8.3"
  }
 },
 "nbformat": 4,
 "nbformat_minor": 4
}
